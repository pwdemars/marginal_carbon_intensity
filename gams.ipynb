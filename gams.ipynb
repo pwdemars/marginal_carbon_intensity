{
 "cells": [
  {
   "cell_type": "markdown",
   "id": "personalized-research",
   "metadata": {},
   "source": [
    "# Marginal Carbon Emissions Intensity\n",
    "\n",
    "This notebook prototypes a method for calculating marginal carbon emissions for Great Britain. "
   ]
  },
  {
   "cell_type": "code",
   "execution_count": null,
   "id": "fancy-notebook",
   "metadata": {},
   "outputs": [],
   "source": [
    "import pandas as pd\n",
    "import numpy as np\n",
    "import matplotlib.pyplot as plt \n",
    "\n",
    "from scipy import stats\n",
    "from sklearn.ensemble import RandomForestRegressor\n",
    "from sklearn.linear_model import LinearRegression, Lasso\n",
    "from sklearn.preprocessing import PolynomialFeatures\n",
    "from sklearn.pipeline import make_pipeline\n",
    "from sklearn.metrics import mean_squared_error, mean_absolute_error"
   ]
  },
  {
   "cell_type": "markdown",
   "id": "cardiac-access",
   "metadata": {},
   "source": [
    "### Data\n",
    "\n",
    "This work will use data from Electric Insights (kindly pulled from their undercover API by Ayrton Bourn). The analysis will be based on 2019, the last year of complete data excluding 2020, which was unusual due to the pandemic. "
   ]
  },
  {
   "cell_type": "code",
   "execution_count": null,
   "id": "honest-treasure",
   "metadata": {},
   "outputs": [],
   "source": [
    "df = pd.read_csv('https://raw.githubusercontent.com/AyrtonB/Electric-Insights/master/data/electric_insights_2019.csv')"
   ]
  },
  {
   "cell_type": "code",
   "execution_count": null,
   "id": "mechanical-montgomery",
   "metadata": {},
   "outputs": [],
   "source": [
    "df['local_datetime'] = pd.to_datetime(df.local_datetime, utc=True)\n",
    "df = df.set_index('local_datetime')\n",
    "df = df.sort_index()\n",
    "\n",
    "# Drop NAs for demand and carbon intensity\n",
    "df = df.dropna(subset=['demand', 'gCO2_per_kWh'], axis=0)\n",
    "\n",
    "# Add some datetime features\n",
    "df['net_demand'] = df.demand - df.wind - df.solar\n",
    "df['hour'] = df.index.hour\n",
    "df['month'] = df.index.month - 1\n",
    "df['dayofyear'] = df.index.dayofyear\n",
    "df['sin_hour'] = np.sin(2*np.pi*df.hour / 24)\n",
    "df['cos_hour'] = np.cos(2*np.pi*df.hour / 24)"
   ]
  },
  {
   "cell_type": "markdown",
   "id": "cooked-correlation",
   "metadata": {},
   "source": [
    "### Checking for Outliers"
   ]
  },
  {
   "cell_type": "code",
   "execution_count": null,
   "id": "seventh-aluminum",
   "metadata": {},
   "outputs": [],
   "source": [
    "fig, ax = plt.subplots(dpi=125)\n",
    "ax.scatter(df.net_demand, df.gCO2_per_kWh, s=1)\n",
    "ax.set_xlabel('Net demand GW')\n",
    "ax.set_ylabel('gCO2 per kWh')"
   ]
  },
  {
   "cell_type": "markdown",
   "id": "charming-nowhere",
   "metadata": {},
   "source": [
    "Remove outyling points of low net demand: "
   ]
  },
  {
   "cell_type": "code",
   "execution_count": null,
   "id": "surgical-jewelry",
   "metadata": {},
   "outputs": [],
   "source": [
    "df = df[df.net_demand > 5]"
   ]
  },
  {
   "cell_type": "markdown",
   "id": "advised-fighter",
   "metadata": {},
   "source": [
    "There is a fairly clear relationship between net demand and gCO2 per kWh, but also a huge amount of noise: the carbon intensity for a net demand of 25 GW can be anywhere between ~130--300gCO2/kWh.\n",
    "\n",
    "Panelling by hour gives a picture of the changing relationship between demand and CO2 intensity through the day:"
   ]
  },
  {
   "cell_type": "code",
   "execution_count": null,
   "id": "front-shame",
   "metadata": {},
   "outputs": [],
   "source": [
    "fig, axs = plt.subplots(4,6, dpi=125, figsize=(16,12), sharey=True, sharex=True)\n",
    "\n",
    "rs = []\n",
    "for i, ax in enumerate(axs.flatten()): \n",
    "    split = df.loc[df.index.hour == i].copy()\n",
    "    \n",
    "    ax.scatter(split.net_demand, split.gCO2_per_kWh, s=1)\n",
    "    ax.set_title(\"Hour {}\".format(i))\n",
    "    ax.set_xlim(5, 45)\n",
    "    \n",
    "    r = stats.pearsonr(split.net_demand, split.gCO2_per_kWh)\n",
    "    rs.append(r[0])\n",
    "    \n",
    "    "
   ]
  },
  {
   "cell_type": "markdown",
   "id": "eight-policy",
   "metadata": {},
   "source": [
    "There is a much clearer relationship now if we control for hour (note binned approaches to CO2 intensity prediciton from the Wattime report). CO2 intensity is most strongly correlated with demand during daytime hours:"
   ]
  },
  {
   "cell_type": "code",
   "execution_count": null,
   "id": "greatest-monthly",
   "metadata": {},
   "outputs": [],
   "source": [
    "fig, ax = plt.subplots(dpi=125)\n",
    "\n",
    "ax.plot(rs)\n",
    "ax.set_xlabel('Hour')\n",
    "ax.set_ylabel('Pearson R')"
   ]
  },
  {
   "cell_type": "markdown",
   "id": "anticipated-gender",
   "metadata": {},
   "source": [
    "### GAMs\n",
    "\n",
    "In this prototype we will apply generalised additive models (GAMs) to fit CO2 intensity against net demand and other power system variables."
   ]
  },
  {
   "cell_type": "code",
   "execution_count": null,
   "id": "surface-intellectual",
   "metadata": {},
   "outputs": [],
   "source": [
    "from pygam import LinearGAM, s, f"
   ]
  },
  {
   "cell_type": "markdown",
   "id": "median-confusion",
   "metadata": {},
   "source": [
    "Helper function to split the data into target (carbon intensity) and features:"
   ]
  },
  {
   "cell_type": "code",
   "execution_count": null,
   "id": "developing-clearance",
   "metadata": {},
   "outputs": [],
   "source": [
    "def get_X_y(df, feature_cols):\n",
    "    y = df['gCO2_per_kWh'].values.reshape(-1,)\n",
    "    X = df.filter(feature_cols).values\n",
    "    \n",
    "    return X, y "
   ]
  },
  {
   "cell_type": "markdown",
   "id": "recovered-polyester",
   "metadata": {},
   "source": [
    "The following will use only a handful of features. One of the nice things about GAMs is their additive nature, which allows for the marginal impact of individual variables to be analysed. Keeping the number of features small adds to this interpretability, as well as reducing the risk of overfitting."
   ]
  },
  {
   "cell_type": "code",
   "execution_count": null,
   "id": "sustainable-dubai",
   "metadata": {},
   "outputs": [],
   "source": [
    "feature_cols = ['net_demand', 'sin_hour', 'cos_hour', 'wind']"
   ]
  },
  {
   "cell_type": "markdown",
   "id": "early-highway",
   "metadata": {},
   "source": [
    "### Demonstrating decreasing performance over time\n",
    "\n",
    "We expect that their will be some model drift over time, as the dynamics of power systems change over time. Gas price determining where different generators sit in the merit order stack is one example of a factor which may be very difficult to predict and highly influential. \n",
    "\n",
    "The following code fits a GAM to the first 6 months of the data and evaluates it on the last 6 months: "
   ]
  },
  {
   "cell_type": "code",
   "execution_count": null,
   "id": "creative-lafayette",
   "metadata": {},
   "outputs": [],
   "source": [
    "train = df[df.month<=5]\n",
    "test = df[df.month>5]\n",
    "\n",
    "X, y = get_X_y(train, feature_cols)\n",
    "\n",
    "gam = LinearGAM(s(0, n_splines=15) + \n",
    "                s(1, n_splines=15) +\n",
    "                s(2, n_splines=15) +\n",
    "                s(3, n_splines=15)).fit(X, y)\n",
    "\n",
    "X_test, y_test = get_X_y(test, feature_cols)\n",
    "y_pred = gam.predict(X_test)\n",
    "\n",
    "errors = pd.DataFrame({'error': y_test - y_pred}, index=test.index)\n",
    "\n",
    "fig, ax = plt.subplots(dpi=125)\n",
    "\n",
    "ax.plot(errors.error.rolling(100).mean())\n",
    "\n",
    "ax.axhline(0, color='gray', linestyle='--')\n",
    "\n",
    "ax.set_xlabel('Date')\n",
    "ax.set_ylabel('Error gCO2/kWh')\n",
    "\n",
    "mae = mean_absolute_error(y_test, y_pred)\n",
    "\n",
    "ax.set_title(\"MAE = {:.2f} gCO2/kWh\".format(mae))"
   ]
  },
  {
   "cell_type": "markdown",
   "id": "technological-patrol",
   "metadata": {},
   "source": [
    "The fit is not too bad overall (in terms of MAE), and does not substantially worsen through time. However, we can see that the series is non-stationary, with some periods of systematically under or over-predicting (e.g. around September)."
   ]
  },
  {
   "cell_type": "markdown",
   "id": "standing-campaign",
   "metadata": {},
   "source": [
    "### Data size vs. data relevance\n",
    "\n",
    "Long-term changes in energy systems are likely to impact the relationship between demand and carbon intensity. Factors include fuel prices, introduction of new generation or interconnectors and changes to power market regulations which favour different generation technologies. \n",
    "\n",
    "Fitting models on windows of the data (e.g. single months, seasons etc.) may help to improve the intensity signal by controlling for long term changes which cannot easily be included in the model. However, this comes at the expense of less training data, and hence increased variance of the intensity signal. \n",
    "\n",
    "The code below investigates the effect of an increasing window size on model performance (MAE): "
   ]
  },
  {
   "cell_type": "code",
   "execution_count": null,
   "id": "honest-webster",
   "metadata": {},
   "outputs": [],
   "source": [
    "size = 30\n",
    "all_dates = np.unique(df.index.date)\n",
    "start_dates = all_dates[:-size]\n",
    "\n",
    "# for date in start_dates: \n",
    "    \n",
    "\n"
   ]
  },
  {
   "cell_type": "code",
   "execution_count": null,
   "id": "acquired-crown",
   "metadata": {},
   "outputs": [],
   "source": [
    "# window_size_days = [7, 30, 90, 180, 365]\n",
    "window_size_days = [7]\n",
    "all_dates = np.unique(df.index.date)\n",
    "\n",
    "for size in window_size_days:\n",
    "    start_dates = all_dates[:-size]\n",
    "    for i, date in enumerate(start_dates): \n",
    "        loc_dates = start_dates[i:i+size]\n",
    "#         split = df.loc[date:date+pd.Timedelta(size - 1, unit='days')]\n",
    "        split = df.loc[loc_dates]\n",
    "        test = split.sample(frac = 0.1)\n",
    "        train = split.drop(test.index)\n",
    "        \n",
    "        X, y = get_X_y(train, feature_cols)\n",
    "        \n",
    "        gam = LinearGAM(s(0, n_splines=15) + \n",
    "                        s(1, n_splines=15) +\n",
    "                        s(2, n_splines=15) +\n",
    "                        s(3, n_splines=15)).fit(X, y)\n",
    "\n",
    "        X_test, y_test = get_X_y(test, feature_cols)\n",
    "        \n",
    "        y_pred = gam.predict(X_test)\n",
    "\n",
    "        errors = pd.DataFrame({'error': y_test - y_pred}, index=test.index)"
   ]
  },
  {
   "cell_type": "markdown",
   "id": "running-vulnerability",
   "metadata": {},
   "source": [
    "### Monthly Fit\n",
    "\n",
    "Let's see how performance changes if we fit a new model each month, and predict the following month: "
   ]
  },
  {
   "cell_type": "code",
   "execution_count": null,
   "id": "magnetic-proof",
   "metadata": {},
   "outputs": [],
   "source": [
    "all_dfs = []\n",
    "\n",
    "for m in df.month.unique()[:-1]:\n",
    "    \n",
    "    train = df[df.month==m]\n",
    "    test = df[df.month==m+1]\n",
    "    \n",
    "    X, y = get_X_y(train, feature_cols)\n",
    "    \n",
    "    gam = LinearGAM(s(0, n_splines=15) + \n",
    "                    s(1, n_splines=15) +\n",
    "                    s(2, n_splines=15) +\n",
    "                    s(3, n_splines=15)).fit(X, y)\n",
    "    \n",
    "    \n",
    "    X_test, y_test = get_X_y(test, feature_cols)\n",
    "    y_pred = gam.predict(X_test)\n",
    "    \n",
    "    # Add predictions to a df\n",
    "    preds_df = pd.DataFrame({'actual': y_test,\n",
    "                             'pred': y_pred,\n",
    "                             }, index=test.index)\n",
    "    all_dfs.append(preds_df)\n",
    "    \n",
    "    mae = mean_absolute_error(y_test, y_pred)\n",
    "    print(\"Month {}: MAE = {:.2f} kgCO2/kWh\".format(m+2, mae))\n",
    "    \n",
    "# Concatenate all preds\n",
    "preds_df = pd.concat(all_dfs)\n",
    "fig, ax = plt.subplots(dpi=125, figsize=(10,3))\n",
    "ax.plot(preds_df.actual - preds_df.pred)\n",
    "\n",
    "mae = mean_absolute_error(preds_df.actual, preds_df.pred)\n",
    "\n",
    "ax.set_xlabel('Date')\n",
    "ax.set_ylabel('Error gCO2/kWh')\n",
    "ax.set_title(\"MAE = {:.2f} gCO2/kWh\".format(mae))\n"
   ]
  },
  {
   "cell_type": "markdown",
   "id": "about-tooth",
   "metadata": {},
   "source": [
    "### Plotting the carbon intensity curve\n",
    "\n",
    "Finally let's produce a carbon intensity curve for a given state, and determine the marginal carbon intensity signal.\n",
    "\n",
    "We will fit the model on the entire dataset for this example:"
   ]
  },
  {
   "cell_type": "code",
   "execution_count": null,
   "id": "normal-antibody",
   "metadata": {},
   "outputs": [],
   "source": [
    "X, y = get_X_y(df, feature_cols)\n",
    "\n",
    "gam = LinearGAM(s(0, n_splines=15) + \n",
    "                s(1, n_splines=15) +\n",
    "                s(2, n_splines=15) +\n",
    "                s(3, n_splines=15)).fit(X, y)"
   ]
  },
  {
   "cell_type": "code",
   "execution_count": null,
   "id": "related-birth",
   "metadata": {},
   "outputs": [],
   "source": [
    "def hour_to_sin_cos(hour):\n",
    "    \"\"\"\n",
    "    Convert hour (int) to sin and cos projection\n",
    "    \"\"\"\n",
    "    sin_hour = np.sin(2*np.pi*hour / 24)\n",
    "    cos_hour = np.cos(2*np.pi*hour / 24)\n",
    "    \n",
    "    return sin_hour, cos_hour"
   ]
  },
  {
   "cell_type": "code",
   "execution_count": null,
   "id": "suspended-assessment",
   "metadata": {},
   "outputs": [],
   "source": [
    "def predict_gCO2(gam, state, net_demands):\n",
    "    \"\"\"\n",
    "    Predict carbon intensity given a fitted GAM, defined fixed state variables (dict)\n",
    "    and net demands (array)\n",
    "    \"\"\"\n",
    "    \n",
    "    assert 'net_demand' in state.keys()\n",
    "    \n",
    "    state = pd.Series(state).astype(float)\n",
    "    \n",
    "    X = state.values\n",
    "    X_rep = np.tile(X, (len(net_demands),1))\n",
    "    X_rep[:, 0] = net_demands\n",
    "    \n",
    "    preds = gam.predict(X_rep)\n",
    "    ints = gam.prediction_intervals(X_rep)\n",
    "    \n",
    "    return preds, ints\n",
    "    "
   ]
  },
  {
   "cell_type": "markdown",
   "id": "concerned-cornwall",
   "metadata": {},
   "source": [
    "The state is defined below, requiring hour of day and wind (GW): "
   ]
  },
  {
   "cell_type": "code",
   "execution_count": null,
   "id": "viral-winner",
   "metadata": {},
   "outputs": [],
   "source": [
    "hour = 10\n",
    "wind = 5\n",
    "N = 100\n",
    "sin_hour, cos_hour = hour_to_sin_cos(hour)\n",
    "\n",
    "state = {'net_demand': np.nan,\n",
    "     'sin_hour': sin_hour,\n",
    "     'cos_hour': cos_hour,\n",
    "     'wind': wind}\n",
    "\n",
    "net_demands = np.linspace(10, 40, N)\n",
    "\n",
    "preds, ints = predict_gCO2(gam, state, net_demands)"
   ]
  },
  {
   "cell_type": "markdown",
   "id": "public-circular",
   "metadata": {},
   "source": [
    "The carbon intensity is plotted between 10--40 GW net demand, with wind and hour held steady: "
   ]
  },
  {
   "cell_type": "code",
   "execution_count": null,
   "id": "constant-mayor",
   "metadata": {},
   "outputs": [],
   "source": [
    "fig, ax = plt.subplots(dpi=125)\n",
    "\n",
    "ax.plot(net_demands, preds)\n",
    "ax.fill_between(net_demands, ints[:,0], ints[:,1], color='grey', alpha=0.1)\n",
    "\n",
    "ax.set_xlabel(\"Net demand GW\")\n",
    "ax.set_ylabel(\"Carbon intensity gCO2/kWh\")\n",
    "\n",
    "ax.set_title(\"Wind: {} GW    Time: {}:00\".format(wind, hour))\n",
    "\n",
    "lwr = 15\n",
    "upr = 17\n",
    "\n",
    "y1 = predict_gCO2(gam, state, np.array([lwr]))[0]\n",
    "y2 = predict_gCO2(gam, state, np.array([upr]))[0]\n",
    "\n",
    "a = 0.5\n",
    "c = 'gray'\n",
    "ls = '--'\n",
    "ax.axvline(lwr, color=c, alpha=a, linestyle=ls)\n",
    "ax.axvline(upr, color=c, alpha=a, linestyle=ls)\n",
    "\n",
    "ax.axhline(y1, color=c, alpha=a, linestyle=ls)\n",
    "ax.axhline(y2, color=c, alpha=a, linestyle=ls)\n",
    "\n",
    "ax.text((lwr + upr) / 2, 50, '$\\Delta$ D', ha='center')\n",
    "ax.text(10, (y1 + y2) / 2, '$\\Delta$ gCO2', va='center')\n",
    "\n",
    "plt.savefig('img/example_curve.png')"
   ]
  },
  {
   "cell_type": "markdown",
   "id": "favorite-basis",
   "metadata": {},
   "source": [
    "For a given net demand, the following function calculates the marginal carbon intensity for a 1 MWh increase in net demand: "
   ]
  },
  {
   "cell_type": "code",
   "execution_count": null,
   "id": "after-rabbit",
   "metadata": {},
   "outputs": [],
   "source": [
    "def marginal_carbon_intensity(gam, state, net_demand): \n",
    "    \"\"\"\n",
    "    Calculate the carbon intensity change (gCO2) for a 1 MWh increase in \n",
    "    net demand\n",
    "    \"\"\"\n",
    "    preds = predict_gCO2(gam, state, np.array([net_demand, net_demand + 2 * 1e-3]))[0]\n",
    "    return np.diff(preds)\n",
    "    \n",
    "float(marginal_carbon_intensity(gam, state, 25))"
   ]
  },
  {
   "cell_type": "markdown",
   "id": "suspended-broad",
   "metadata": {},
   "source": [
    "Now for each period in the original data, calculate the marginal CO2 intensity signal: "
   ]
  },
  {
   "cell_type": "code",
   "execution_count": 149,
   "id": "developing-monte",
   "metadata": {},
   "outputs": [],
   "source": [
    "all_marginals = []\n",
    "\n",
    "for i, row in df.iterrows():\n",
    "    s = row.filter(feature_cols)\n",
    "    all_marginals.append(marginal_carbon_intensity(gam, s, s['net_demand']))\n",
    "    \n",
    "df['marginal_carbon_intensity'] = all_marginals\n",
    "        "
   ]
  }
 ],
 "metadata": {
  "kernelspec": {
   "display_name": "Python 3",
   "language": "python",
   "name": "python3"
  },
  "language_info": {
   "codemirror_mode": {
    "name": "ipython",
    "version": 3
   },
   "file_extension": ".py",
   "mimetype": "text/x-python",
   "name": "python",
   "nbconvert_exporter": "python",
   "pygments_lexer": "ipython3",
   "version": "3.9.1"
  }
 },
 "nbformat": 4,
 "nbformat_minor": 5
}
